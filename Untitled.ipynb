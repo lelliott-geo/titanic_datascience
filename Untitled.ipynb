{
 "cells": [
  {
   "cell_type": "code",
   "execution_count": 4,
   "metadata": {},
   "outputs": [
    {
     "name": "stdout",
     "output_type": "stream",
     "text": [
      "['C:\\\\Users\\\\lelli\\\\Python\\\\production-data-science\\\\tutorial\\\\a-setup', 'C:\\\\Users\\\\lelli\\\\Anaconda3\\\\python37.zip', 'C:\\\\Users\\\\lelli\\\\Anaconda3\\\\DLLs', 'C:\\\\Users\\\\lelli\\\\Anaconda3\\\\lib', 'C:\\\\Users\\\\lelli\\\\Anaconda3', '', 'C:\\\\Users\\\\lelli\\\\Anaconda3\\\\lib\\\\site-packages', 'C:\\\\Users\\\\lelli\\\\Anaconda3\\\\lib\\\\site-packages\\\\win32', 'C:\\\\Users\\\\lelli\\\\Anaconda3\\\\lib\\\\site-packages\\\\win32\\\\lib', 'C:\\\\Users\\\\lelli\\\\Anaconda3\\\\lib\\\\site-packages\\\\Pythonwin', 'C:\\\\Users\\\\lelli\\\\Anaconda3\\\\lib\\\\site-packages\\\\IPython\\\\extensions', 'C:\\\\Users\\\\lelli\\\\.ipython', 'C:\\\\Users\\\\lelli\\\\Python\\\\production-data-science\\\\tutorial\\\\a-setup\\\\titanic', 'C:\\\\Users\\\\lelli\\\\appdata\\\\local\\\\programs\\\\python\\\\python37\\\\lib\\\\site-packages']\n"
     ]
    }
   ],
   "source": [
    "import sys\n",
    "print(sys.path)"
   ]
  },
  {
   "cell_type": "code",
   "execution_count": 2,
   "metadata": {},
   "outputs": [],
   "source": [
    "sys.path.append('C:\\\\Users\\\\lelli\\\\Python\\\\production-data-science\\\\tutorial\\\\a-setup\\\\titanic')"
   ]
  },
  {
   "cell_type": "code",
   "execution_count": 3,
   "metadata": {},
   "outputs": [],
   "source": [
    "sys.path.append(\"C:\\\\Users\\\\lelli\\\\appdata\\\\local\\\\programs\\\\python\\\\python37\\\\lib\\\\site-packages\")"
   ]
  },
  {
   "cell_type": "code",
   "execution_count": 5,
   "metadata": {},
   "outputs": [],
   "source": [
    "import pypandoc"
   ]
  },
  {
   "cell_type": "code",
   "execution_count": 6,
   "metadata": {},
   "outputs": [
    {
     "name": "stdout",
     "output_type": "stream",
     "text": [
      "Obtaining file:///C:/Users/lelli/Python/production-data-science/tutorial/a-setup\n",
      "Note: you may need to restart the kernel to use updated packages.\n"
     ]
    },
    {
     "name": "stderr",
     "output_type": "stream",
     "text": [
      "    ERROR: Command errored out with exit status 1:\n",
      "     command: 'C:\\Users\\lelli\\Anaconda3\\python.exe' -c 'import sys, setuptools, tokenize; sys.argv[0] = '\"'\"'C:\\\\Users\\\\lelli\\\\Python\\\\production-data-science\\\\tutorial\\\\a-setup\\\\setup.py'\"'\"'; __file__='\"'\"'C:\\\\Users\\\\lelli\\\\Python\\\\production-data-science\\\\tutorial\\\\a-setup\\\\setup.py'\"'\"';f=getattr(tokenize, '\"'\"'open'\"'\"', open)(__file__);code=f.read().replace('\"'\"'\\r\\n'\"'\"', '\"'\"'\\n'\"'\"');f.close();exec(compile(code, __file__, '\"'\"'exec'\"'\"'))' egg_info\n",
      "         cwd: C:\\Users\\lelli\\Python\\production-data-science\\tutorial\\a-setup\\\n",
      "    Complete output (16 lines):\n",
      "    Traceback (most recent call last):\n",
      "      File \"C:\\Users\\lelli\\Python\\production-data-science\\tutorial\\a-setup\\setup.py\", line 6, in readme\n",
      "        import pypandoc\n",
      "    ModuleNotFoundError: No module named 'pypandoc'\n",
      "    \n",
      "    During handling of the above exception, another exception occurred:\n",
      "    \n",
      "    Traceback (most recent call last):\n",
      "      File \"<string>\", line 1, in <module>\n",
      "      File \"C:\\Users\\lelli\\Python\\production-data-science\\tutorial\\a-setup\\setup.py\", line 17, in <module>\n",
      "        long_description=readme(),\n",
      "      File \"C:\\Users\\lelli\\Python\\production-data-science\\tutorial\\a-setup\\setup.py\", line 10, in readme\n",
      "        return readme_file.read()\n",
      "      File \"C:\\Users\\lelli\\Anaconda3\\lib\\encodings\\cp1252.py\", line 23, in decode\n",
      "        return codecs.charmap_decode(input,self.errors,decoding_table)[0]\n",
      "    UnicodeDecodeError: 'charmap' codec can't decode byte 0x81 in position 1767: character maps to <undefined>\n",
      "    ----------------------------------------\n",
      "ERROR: Command errored out with exit status 1: python setup.py egg_info Check the logs for full command output.\n"
     ]
    }
   ],
   "source": [
    "pip install -e ."
   ]
  }
 ],
 "metadata": {
  "kernelspec": {
   "display_name": "Python 3",
   "language": "python",
   "name": "python3"
  },
  "language_info": {
   "codemirror_mode": {
    "name": "ipython",
    "version": 3
   },
   "file_extension": ".py",
   "mimetype": "text/x-python",
   "name": "python",
   "nbconvert_exporter": "python",
   "pygments_lexer": "ipython3",
   "version": "3.7.4"
  }
 },
 "nbformat": 4,
 "nbformat_minor": 2
}
